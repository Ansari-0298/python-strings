{
 "cells": [
  {
   "cell_type": "code",
   "execution_count": 1,
   "id": "f4852037",
   "metadata": {},
   "outputs": [],
   "source": [
    "\n",
    "#Strings are sequences of character enclosed within single quotes(''),double(\"\")or triple('''''')\n",
    "#for eg= 'hello worlds', \"hello world\",'''hello world'''"
   ]
  },
  {
   "cell_type": "code",
   "execution_count": 2,
   "id": "fa338ba3",
   "metadata": {},
   "outputs": [
    {
     "data": {
      "text/plain": [
       "'this is my first string'"
      ]
     },
     "execution_count": 2,
     "metadata": {},
     "output_type": "execute_result"
    }
   ],
   "source": [
    "str1='this is my first string'\n",
    "str1"
   ]
  },
  {
   "cell_type": "code",
   "execution_count": 6,
   "id": "5d382483",
   "metadata": {},
   "outputs": [
    {
     "data": {
      "text/plain": [
       "'this is my second string'"
      ]
     },
     "execution_count": 6,
     "metadata": {},
     "output_type": "execute_result"
    }
   ],
   "source": [
    "str2=\"this is my second string\"\n",
    "str2"
   ]
  },
  {
   "cell_type": "code",
   "execution_count": 9,
   "id": "a4dbb7d8",
   "metadata": {},
   "outputs": [
    {
     "data": {
      "text/plain": [
       "'\\nMy name is mohammed taj ansari\\ni am 23 years old\\ni am working in ibis vikhroli\\nfor 9months\\n\\n'"
      ]
     },
     "execution_count": 9,
     "metadata": {},
     "output_type": "execute_result"
    }
   ],
   "source": [
    "str3='''\n",
    "My name is mohammed taj ansari\n",
    "i am 23 years old\n",
    "i am working in ibis vikhroli\n",
    "for 9months\n",
    "\n",
    "'''\n",
    "str3"
   ]
  },
  {
   "cell_type": "code",
   "execution_count": 10,
   "id": "f44f2027",
   "metadata": {},
   "outputs": [],
   "source": [
    "#extracting individual characters"
   ]
  },
  {
   "cell_type": "code",
   "execution_count": 29,
   "id": "c107c383",
   "metadata": {},
   "outputs": [
    {
     "data": {
      "text/plain": [
       "'my name is taj working in ibis vikhroli mumbai'"
      ]
     },
     "execution_count": 29,
     "metadata": {},
     "output_type": "execute_result"
    }
   ],
   "source": [
    "my_string='my name is taj working in ibis vikhroli mumbai'\n",
    "my_string"
   ]
  },
  {
   "cell_type": "code",
   "execution_count": 30,
   "id": "2bebe0ff",
   "metadata": {},
   "outputs": [
    {
     "data": {
      "text/plain": [
       "' '"
      ]
     },
     "execution_count": 30,
     "metadata": {},
     "output_type": "execute_result"
    }
   ],
   "source": [
    "my-string[2]"
   ]
  },
  {
   "cell_type": "code",
   "execution_count": 15,
   "id": "49e9cd2e",
   "metadata": {},
   "outputs": [
    {
     "data": {
      "text/plain": [
       "'i'"
      ]
     },
     "execution_count": 15,
     "metadata": {},
     "output_type": "execute_result"
    }
   ],
   "source": [
    "my_string[-6]\n",
    "        "
   ]
  },
  {
   "cell_type": "code",
   "execution_count": 20,
   "id": "7843a6d5",
   "metadata": {},
   "outputs": [
    {
     "data": {
      "text/plain": [
       "'m'"
      ]
     },
     "execution_count": 20,
     "metadata": {},
     "output_type": "execute_result"
    }
   ],
   "source": [
    "my_string[5:8:10]"
   ]
  },
  {
   "cell_type": "code",
   "execution_count": 1,
   "id": "b5846a35",
   "metadata": {},
   "outputs": [],
   "source": [
    "#string functions\n",
    "#finding length of strings\n"
   ]
  },
  {
   "cell_type": "code",
   "execution_count": 3,
   "id": "2a5c4ebb",
   "metadata": {},
   "outputs": [
    {
     "data": {
      "text/plain": [
       "'my name is Taj ansari'"
      ]
     },
     "execution_count": 3,
     "metadata": {},
     "output_type": "execute_result"
    }
   ],
   "source": [
    "str10=\"my name is Taj ansari\"\n",
    "str10"
   ]
  },
  {
   "cell_type": "code",
   "execution_count": 4,
   "id": "d1a09d97",
   "metadata": {},
   "outputs": [
    {
     "data": {
      "text/plain": [
       "21"
      ]
     },
     "execution_count": 4,
     "metadata": {},
     "output_type": "execute_result"
    }
   ],
   "source": [
    "len(str10)"
   ]
  },
  {
   "cell_type": "code",
   "execution_count": 7,
   "id": "021793c1",
   "metadata": {},
   "outputs": [
    {
     "data": {
      "text/plain": [
       "'my name is taj ansari'"
      ]
     },
     "execution_count": 7,
     "metadata": {},
     "output_type": "execute_result"
    }
   ],
   "source": [
    "str10.lower()"
   ]
  },
  {
   "cell_type": "code",
   "execution_count": 8,
   "id": "fdf25177",
   "metadata": {},
   "outputs": [
    {
     "data": {
      "text/plain": [
       "'MY NAME IS TAJ ANSARI'"
      ]
     },
     "execution_count": 8,
     "metadata": {},
     "output_type": "execute_result"
    }
   ],
   "source": [
    "str10.upper()"
   ]
  },
  {
   "cell_type": "code",
   "execution_count": 9,
   "id": "82b95038",
   "metadata": {},
   "outputs": [
    {
     "data": {
      "text/plain": [
       "'my name is taj ansari'"
      ]
     },
     "execution_count": 9,
     "metadata": {},
     "output_type": "execute_result"
    }
   ],
   "source": [
    "#Replace functions\n",
    "str11=\"my name is taj ansari\"\n",
    "str11"
   ]
  },
  {
   "cell_type": "code",
   "execution_count": 13,
   "id": "d6bfc1a1",
   "metadata": {},
   "outputs": [
    {
     "data": {
      "text/plain": [
       "'my name is raj ansari'"
      ]
     },
     "execution_count": 13,
     "metadata": {},
     "output_type": "execute_result"
    }
   ],
   "source": [
    "str11.replace('t','r')"
   ]
  },
  {
   "cell_type": "code",
   "execution_count": 16,
   "id": "a9685620",
   "metadata": {},
   "outputs": [
    {
     "data": {
      "text/plain": [
       "1"
      ]
     },
     "execution_count": 16,
     "metadata": {},
     "output_type": "execute_result"
    }
   ],
   "source": [
    "str11.count(\"my name\")"
   ]
  },
  {
   "cell_type": "code",
   "execution_count": 22,
   "id": "a5351c5d",
   "metadata": {},
   "outputs": [
    {
     "data": {
      "text/plain": [
       "'lion is the king of the jungle'"
      ]
     },
     "execution_count": 22,
     "metadata": {},
     "output_type": "execute_result"
    }
   ],
   "source": [
    "animals=\"lion is the king of the jungle\"\n",
    "animals"
   ]
  },
  {
   "cell_type": "code",
   "execution_count": 31,
   "id": "00409026",
   "metadata": {},
   "outputs": [
    {
     "data": {
      "text/plain": [
       "2"
      ]
     },
     "execution_count": 31,
     "metadata": {},
     "output_type": "execute_result"
    }
   ],
   "source": [
    "animals.count('the')"
   ]
  },
  {
   "cell_type": "code",
   "execution_count": 27,
   "id": "8d5f9313",
   "metadata": {},
   "outputs": [
    {
     "data": {
      "text/plain": [
       "'lion is the king of the jungle'"
      ]
     },
     "execution_count": 27,
     "metadata": {},
     "output_type": "execute_result"
    }
   ],
   "source": [
    "animals.replace('lions is the king of the jungle','tiger is the dangerous animal')"
   ]
  },
  {
   "cell_type": "code",
   "execution_count": 29,
   "id": "688111d6",
   "metadata": {},
   "outputs": [
    {
     "data": {
      "text/plain": [
       "'tiger is the dangerous animal'"
      ]
     },
     "execution_count": 29,
     "metadata": {},
     "output_type": "execute_result"
    }
   ],
   "source": [
    "strnew=\"tiger is the dangerous animal\"\n",
    "strnew"
   ]
  },
  {
   "cell_type": "code",
   "execution_count": 30,
   "id": "56827e80",
   "metadata": {},
   "outputs": [
    {
     "data": {
      "text/plain": [
       "'bear is more dangerous'"
      ]
     },
     "execution_count": 30,
     "metadata": {},
     "output_type": "execute_result"
    }
   ],
   "source": [
    "strnew.replace('tiger is the dangerous animal','bear is more dangerous')"
   ]
  },
  {
   "cell_type": "code",
   "execution_count": 34,
   "id": "470e24c7",
   "metadata": {},
   "outputs": [
    {
     "data": {
      "text/plain": [
       "3"
      ]
     },
     "execution_count": 34,
     "metadata": {},
     "output_type": "execute_result"
    }
   ],
   "source": [
    "strnew.count(\"a\")"
   ]
  },
  {
   "cell_type": "code",
   "execution_count": 35,
   "id": "bbdf6ce7",
   "metadata": {},
   "outputs": [
    {
     "data": {
      "text/plain": [
       "'my name is taj ansari'"
      ]
     },
     "execution_count": 35,
     "metadata": {},
     "output_type": "execute_result"
    }
   ],
   "source": [
    "str=\"my name is taj ansari\"\n",
    "str"
   ]
  },
  {
   "cell_type": "code",
   "execution_count": 36,
   "id": "06df1be1",
   "metadata": {},
   "outputs": [
    {
     "data": {
      "text/plain": [
       "15"
      ]
     },
     "execution_count": 36,
     "metadata": {},
     "output_type": "execute_result"
    }
   ],
   "source": [
    "str.find('ansari')"
   ]
  },
  {
   "cell_type": "code",
   "execution_count": 39,
   "id": "ae1db2bc",
   "metadata": {},
   "outputs": [
    {
     "data": {
      "text/plain": [
       "'hello world is awesome'"
      ]
     },
     "execution_count": 39,
     "metadata": {},
     "output_type": "execute_result"
    }
   ],
   "source": [
    "str=\"hello world is awesome\"\n",
    "str"
   ]
  },
  {
   "cell_type": "code",
   "execution_count": 46,
   "id": "da1f0612",
   "metadata": {},
   "outputs": [
    {
     "data": {
      "text/plain": [
       "['hell', ' w', 'rld is awes', 'me']"
      ]
     },
     "execution_count": 46,
     "metadata": {},
     "output_type": "execute_result"
    }
   ],
   "source": [
    "str.split('o')"
   ]
  },
  {
   "cell_type": "code",
   "execution_count": 1,
   "id": "b1f09f89",
   "metadata": {},
   "outputs": [],
   "source": [
    "#string"
   ]
  },
  {
   "cell_type": "code",
   "execution_count": 2,
   "id": "a11e1bba",
   "metadata": {},
   "outputs": [],
   "source": [
    "str1='''my name is taj ansari\n",
    "i work in ibis vikhroli mumbai\n",
    "i am 23 years old\n",
    "i live in sion\n",
    "'''"
   ]
  },
  {
   "cell_type": "code",
   "execution_count": 3,
   "id": "9402e24e",
   "metadata": {},
   "outputs": [
    {
     "data": {
      "text/plain": [
       "'my name is taj ansari\\ni work in ibis vikhroli mumbai\\ni am 23 years old\\ni live in sion\\n'"
      ]
     },
     "execution_count": 3,
     "metadata": {},
     "output_type": "execute_result"
    }
   ],
   "source": [
    "str1"
   ]
  },
  {
   "cell_type": "code",
   "execution_count": 4,
   "id": "89a8d6e5",
   "metadata": {},
   "outputs": [
    {
     "data": {
      "text/plain": [
       "' name i'"
      ]
     },
     "execution_count": 4,
     "metadata": {},
     "output_type": "execute_result"
    }
   ],
   "source": [
    "str1[2:9]"
   ]
  },
  {
   "cell_type": "code",
   "execution_count": 5,
   "id": "c1917829",
   "metadata": {},
   "outputs": [
    {
     "data": {
      "text/plain": [
       "86"
      ]
     },
     "execution_count": 5,
     "metadata": {},
     "output_type": "execute_result"
    }
   ],
   "source": [
    "len(str1)"
   ]
  },
  {
   "cell_type": "code",
   "execution_count": 6,
   "id": "fbbc97a9",
   "metadata": {},
   "outputs": [
    {
     "data": {
      "text/plain": [
       "'my name is taj ansari\\ni work in ibis vikhroli mumbai\\ni am 23 years old\\ni live in sion\\n'"
      ]
     },
     "execution_count": 6,
     "metadata": {},
     "output_type": "execute_result"
    }
   ],
   "source": [
    "str1.lower()"
   ]
  },
  {
   "cell_type": "code",
   "execution_count": 7,
   "id": "fcead3a9",
   "metadata": {},
   "outputs": [
    {
     "data": {
      "text/plain": [
       "'MY NAME IS TAJ ANSARI\\nI WORK IN IBIS VIKHROLI MUMBAI\\nI AM 23 YEARS OLD\\nI LIVE IN SION\\n'"
      ]
     },
     "execution_count": 7,
     "metadata": {},
     "output_type": "execute_result"
    }
   ],
   "source": [
    "str1.upper()"
   ]
  },
  {
   "cell_type": "code",
   "execution_count": 9,
   "id": "2731e638",
   "metadata": {},
   "outputs": [
    {
     "data": {
      "text/plain": [
       "'my name is raj ansari\\ni work in ibis vikhroli mumbai\\ni am 23 years old\\ni live in sion\\n'"
      ]
     },
     "execution_count": 9,
     "metadata": {},
     "output_type": "execute_result"
    }
   ],
   "source": [
    "str1.replace('t','r')"
   ]
  },
  {
   "cell_type": "code",
   "execution_count": 11,
   "id": "343b2265",
   "metadata": {},
   "outputs": [
    {
     "data": {
      "text/plain": [
       "0"
      ]
     },
     "execution_count": 11,
     "metadata": {},
     "output_type": "execute_result"
    }
   ],
   "source": [
    "str1.count(\"my name is holland\")"
   ]
  },
  {
   "cell_type": "code",
   "execution_count": 12,
   "id": "7e634ad3",
   "metadata": {},
   "outputs": [
    {
     "data": {
      "text/plain": [
       "'he is playing cricket\\ni work in ibis vikhroli mumbai\\ni am 23 years old\\ni live in sion\\n'"
      ]
     },
     "execution_count": 12,
     "metadata": {},
     "output_type": "execute_result"
    }
   ],
   "source": [
    "str1.replace(\"my name is taj ansari\",\"he is playing cricket\")"
   ]
  },
  {
   "cell_type": "code",
   "execution_count": 16,
   "id": "23a2aefc",
   "metadata": {},
   "outputs": [
    {
     "data": {
      "text/plain": [
       "7"
      ]
     },
     "execution_count": 16,
     "metadata": {},
     "output_type": "execute_result"
    }
   ],
   "source": [
    "str1.count('a')"
   ]
  },
  {
   "cell_type": "code",
   "execution_count": 17,
   "id": "ffdde115",
   "metadata": {},
   "outputs": [
    {
     "data": {
      "text/plain": [
       "'lion is the king of the jungle and peacock is the nationsal bird'"
      ]
     },
     "execution_count": 17,
     "metadata": {},
     "output_type": "execute_result"
    }
   ],
   "source": [
    "str1=\"lion is the king of the jungle and peacock is the nationsal bird\"\n",
    "str1"
   ]
  },
  {
   "cell_type": "code",
   "execution_count": 18,
   "id": "a4d69be0",
   "metadata": {},
   "outputs": [
    {
     "data": {
      "text/plain": [
       "24"
      ]
     },
     "execution_count": 18,
     "metadata": {},
     "output_type": "execute_result"
    }
   ],
   "source": [
    "str1.find(\"jungle\")"
   ]
  },
  {
   "cell_type": "code",
   "execution_count": 19,
   "id": "946c4a25",
   "metadata": {},
   "outputs": [
    {
     "data": {
      "text/plain": [
       "['lion is the king of the jungle and ', ' is the nationsal bird']"
      ]
     },
     "execution_count": 19,
     "metadata": {},
     "output_type": "execute_result"
    }
   ],
   "source": [
    "str1.split(\"peacock\")"
   ]
  },
  {
   "cell_type": "code",
   "execution_count": 1,
   "id": "9e451501",
   "metadata": {},
   "outputs": [],
   "source": [
    "#practice"
   ]
  },
  {
   "cell_type": "code",
   "execution_count": 2,
   "id": "38dff077",
   "metadata": {},
   "outputs": [
    {
     "data": {
      "text/plain": [
       "'hello'"
      ]
     },
     "execution_count": 2,
     "metadata": {},
     "output_type": "execute_result"
    }
   ],
   "source": [
    "\"hello\""
   ]
  },
  {
   "cell_type": "code",
   "execution_count": 5,
   "id": "245d8b18",
   "metadata": {},
   "outputs": [
    {
     "name": "stdout",
     "output_type": "stream",
     "text": [
      "hello world\n"
     ]
    }
   ],
   "source": [
    "print(\"hello world\")"
   ]
  },
  {
   "cell_type": "code",
   "execution_count": 10,
   "id": "f3ae5f6e",
   "metadata": {},
   "outputs": [
    {
     "data": {
      "text/plain": [
       "'dlrow olleh'"
      ]
     },
     "execution_count": 10,
     "metadata": {},
     "output_type": "execute_result"
    }
   ],
   "source": [
    "str1=\"hello world\"\n",
    "str1[::-1]"
   ]
  },
  {
   "cell_type": "code",
   "execution_count": 15,
   "id": "ad87950f",
   "metadata": {},
   "outputs": [],
   "source": [
    "name=\"sam\""
   ]
  },
  {
   "cell_type": "code",
   "execution_count": 16,
   "id": "63102b06",
   "metadata": {},
   "outputs": [],
   "source": [
    "last_letters=name[1:]"
   ]
  },
  {
   "cell_type": "code",
   "execution_count": 18,
   "id": "324fb78b",
   "metadata": {},
   "outputs": [
    {
     "data": {
      "text/plain": [
       "'am'"
      ]
     },
     "execution_count": 18,
     "metadata": {},
     "output_type": "execute_result"
    }
   ],
   "source": [
    "last_letters"
   ]
  },
  {
   "cell_type": "code",
   "execution_count": 20,
   "id": "042fb712",
   "metadata": {},
   "outputs": [
    {
     "data": {
      "text/plain": [
       "'pam'"
      ]
     },
     "execution_count": 20,
     "metadata": {},
     "output_type": "execute_result"
    }
   ],
   "source": [
    "'p' + last_letters"
   ]
  },
  {
   "cell_type": "code",
   "execution_count": 24,
   "id": "6b088623",
   "metadata": {},
   "outputs": [],
   "source": [
    "a =\"hello wolrd \""
   ]
  },
  {
   "cell_type": "code",
   "execution_count": 25,
   "id": "f827a55e",
   "metadata": {},
   "outputs": [
    {
     "data": {
      "text/plain": [
       "'hello wolrd it is beautiful outside'"
      ]
     },
     "execution_count": 25,
     "metadata": {},
     "output_type": "execute_result"
    }
   ],
   "source": [
    "a + \"it is beautiful outside\""
   ]
  },
  {
   "cell_type": "code",
   "execution_count": null,
   "id": "99bfdf9d",
   "metadata": {},
   "outputs": [],
   "source": []
  }
 ],
 "metadata": {
  "kernelspec": {
   "display_name": "Python 3",
   "language": "python",
   "name": "python3"
  },
  "language_info": {
   "codemirror_mode": {
    "name": "ipython",
    "version": 3
   },
   "file_extension": ".py",
   "mimetype": "text/x-python",
   "name": "python",
   "nbconvert_exporter": "python",
   "pygments_lexer": "ipython3",
   "version": "3.8.8"
  }
 },
 "nbformat": 4,
 "nbformat_minor": 5
}
